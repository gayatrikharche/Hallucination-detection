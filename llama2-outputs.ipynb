{
 "cells": [
  {
   "cell_type": "code",
   "execution_count": 1,
   "metadata": {
    "_cell_guid": "b1076dfc-b9ad-4769-8c92-a6c4dae69d19",
    "_uuid": "8f2839f25d086af736a60e9eeb907d3b93b6e0e5",
    "execution": {
     "iopub.execute_input": "2024-12-05T16:41:08.587860Z",
     "iopub.status.busy": "2024-12-05T16:41:08.587588Z",
     "iopub.status.idle": "2024-12-05T16:41:17.990215Z",
     "shell.execute_reply": "2024-12-05T16:41:17.989359Z",
     "shell.execute_reply.started": "2024-12-05T16:41:08.587803Z"
    },
    "trusted": true
   },
   "outputs": [
    {
     "name": "stdout",
     "output_type": "stream",
     "text": [
      "Requirement already satisfied: transformers in /opt/conda/lib/python3.10/site-packages (4.46.3)\n",
      "Requirement already satisfied: datasets in /opt/conda/lib/python3.10/site-packages (3.1.0)\n",
      "Requirement already satisfied: accelerate in /opt/conda/lib/python3.10/site-packages (1.1.1)\n",
      "Requirement already satisfied: torch in /opt/conda/lib/python3.10/site-packages (2.4.0)\n",
      "Requirement already satisfied: filelock in /opt/conda/lib/python3.10/site-packages (from transformers) (3.15.1)\n",
      "Requirement already satisfied: huggingface-hub<1.0,>=0.23.2 in /opt/conda/lib/python3.10/site-packages (from transformers) (0.26.2)\n",
      "Requirement already satisfied: numpy>=1.17 in /opt/conda/lib/python3.10/site-packages (from transformers) (1.26.4)\n",
      "Requirement already satisfied: packaging>=20.0 in /opt/conda/lib/python3.10/site-packages (from transformers) (21.3)\n",
      "Requirement already satisfied: pyyaml>=5.1 in /opt/conda/lib/python3.10/site-packages (from transformers) (6.0.2)\n",
      "Requirement already satisfied: regex!=2019.12.17 in /opt/conda/lib/python3.10/site-packages (from transformers) (2024.5.15)\n",
      "Requirement already satisfied: requests in /opt/conda/lib/python3.10/site-packages (from transformers) (2.32.3)\n",
      "Requirement already satisfied: tokenizers<0.21,>=0.20 in /opt/conda/lib/python3.10/site-packages (from transformers) (0.20.3)\n",
      "Requirement already satisfied: safetensors>=0.4.1 in /opt/conda/lib/python3.10/site-packages (from transformers) (0.4.5)\n",
      "Requirement already satisfied: tqdm>=4.27 in /opt/conda/lib/python3.10/site-packages (from transformers) (4.66.4)\n",
      "Requirement already satisfied: pyarrow>=15.0.0 in /opt/conda/lib/python3.10/site-packages (from datasets) (17.0.0)\n",
      "Requirement already satisfied: dill<0.3.9,>=0.3.0 in /opt/conda/lib/python3.10/site-packages (from datasets) (0.3.8)\n",
      "Requirement already satisfied: pandas in /opt/conda/lib/python3.10/site-packages (from datasets) (2.2.3)\n",
      "Requirement already satisfied: xxhash in /opt/conda/lib/python3.10/site-packages (from datasets) (3.4.1)\n",
      "Requirement already satisfied: multiprocess<0.70.17 in /opt/conda/lib/python3.10/site-packages (from datasets) (0.70.16)\n",
      "Requirement already satisfied: fsspec<=2024.9.0,>=2023.1.0 in /opt/conda/lib/python3.10/site-packages (from fsspec[http]<=2024.9.0,>=2023.1.0->datasets) (2024.6.0)\n",
      "Requirement already satisfied: aiohttp in /opt/conda/lib/python3.10/site-packages (from datasets) (3.9.5)\n",
      "Requirement already satisfied: psutil in /opt/conda/lib/python3.10/site-packages (from accelerate) (5.9.3)\n",
      "Requirement already satisfied: typing-extensions>=4.8.0 in /opt/conda/lib/python3.10/site-packages (from torch) (4.12.2)\n",
      "Requirement already satisfied: sympy in /opt/conda/lib/python3.10/site-packages (from torch) (1.13.3)\n",
      "Requirement already satisfied: networkx in /opt/conda/lib/python3.10/site-packages (from torch) (3.3)\n",
      "Requirement already satisfied: jinja2 in /opt/conda/lib/python3.10/site-packages (from torch) (3.1.4)\n",
      "Requirement already satisfied: aiosignal>=1.1.2 in /opt/conda/lib/python3.10/site-packages (from aiohttp->datasets) (1.3.1)\n",
      "Requirement already satisfied: attrs>=17.3.0 in /opt/conda/lib/python3.10/site-packages (from aiohttp->datasets) (23.2.0)\n",
      "Requirement already satisfied: frozenlist>=1.1.1 in /opt/conda/lib/python3.10/site-packages (from aiohttp->datasets) (1.4.1)\n",
      "Requirement already satisfied: multidict<7.0,>=4.5 in /opt/conda/lib/python3.10/site-packages (from aiohttp->datasets) (6.0.5)\n",
      "Requirement already satisfied: yarl<2.0,>=1.0 in /opt/conda/lib/python3.10/site-packages (from aiohttp->datasets) (1.9.4)\n",
      "Requirement already satisfied: async-timeout<5.0,>=4.0 in /opt/conda/lib/python3.10/site-packages (from aiohttp->datasets) (4.0.3)\n",
      "Requirement already satisfied: pyparsing!=3.0.5,>=2.0.2 in /opt/conda/lib/python3.10/site-packages (from packaging>=20.0->transformers) (3.1.2)\n",
      "Requirement already satisfied: charset-normalizer<4,>=2 in /opt/conda/lib/python3.10/site-packages (from requests->transformers) (3.3.2)\n",
      "Requirement already satisfied: idna<4,>=2.5 in /opt/conda/lib/python3.10/site-packages (from requests->transformers) (3.7)\n",
      "Requirement already satisfied: urllib3<3,>=1.21.1 in /opt/conda/lib/python3.10/site-packages (from requests->transformers) (1.26.18)\n",
      "Requirement already satisfied: certifi>=2017.4.17 in /opt/conda/lib/python3.10/site-packages (from requests->transformers) (2024.6.2)\n",
      "Requirement already satisfied: MarkupSafe>=2.0 in /opt/conda/lib/python3.10/site-packages (from jinja2->torch) (2.1.5)\n",
      "Requirement already satisfied: python-dateutil>=2.8.2 in /opt/conda/lib/python3.10/site-packages (from pandas->datasets) (2.9.0.post0)\n",
      "Requirement already satisfied: pytz>=2020.1 in /opt/conda/lib/python3.10/site-packages (from pandas->datasets) (2024.1)\n",
      "Requirement already satisfied: tzdata>=2022.7 in /opt/conda/lib/python3.10/site-packages (from pandas->datasets) (2024.1)\n",
      "Requirement already satisfied: mpmath<1.4,>=1.1.0 in /opt/conda/lib/python3.10/site-packages (from sympy->torch) (1.3.0)\n",
      "Requirement already satisfied: six>=1.5 in /opt/conda/lib/python3.10/site-packages (from python-dateutil>=2.8.2->pandas->datasets) (1.16.0)\n"
     ]
    }
   ],
   "source": [
    "!pip install transformers datasets accelerate torch"
   ]
  },
  {
   "cell_type": "code",
   "execution_count": 2,
   "metadata": {
    "execution": {
     "iopub.execute_input": "2024-12-05T16:41:17.992766Z",
     "iopub.status.busy": "2024-12-05T16:41:17.992475Z",
     "iopub.status.idle": "2024-12-05T16:41:34.966734Z",
     "shell.execute_reply": "2024-12-05T16:41:34.965797Z",
     "shell.execute_reply.started": "2024-12-05T16:41:17.992738Z"
    },
    "trusted": true
   },
   "outputs": [],
   "source": [
    "from transformers import AutoTokenizer, AutoModelForCausalLM, LlamaForCausalLM\n",
    "from datasets import load_dataset"
   ]
  },
  {
   "cell_type": "code",
   "execution_count": 3,
   "metadata": {
    "execution": {
     "iopub.execute_input": "2024-12-05T16:41:34.968503Z",
     "iopub.status.busy": "2024-12-05T16:41:34.968030Z",
     "iopub.status.idle": "2024-12-05T16:41:35.036657Z",
     "shell.execute_reply": "2024-12-05T16:41:35.035413Z",
     "shell.execute_reply.started": "2024-12-05T16:41:34.968475Z"
    },
    "trusted": true
   },
   "outputs": [
    {
     "data": {
      "text/plain": [
       "True"
      ]
     },
     "execution_count": 3,
     "metadata": {},
     "output_type": "execute_result"
    }
   ],
   "source": [
    "import torch\n",
    "torch.cuda.is_available()"
   ]
  },
  {
   "cell_type": "code",
   "execution_count": null,
   "metadata": {
    "execution": {
     "iopub.execute_input": "2024-12-05T16:41:35.038478Z",
     "iopub.status.busy": "2024-12-05T16:41:35.038095Z",
     "iopub.status.idle": "2024-12-05T16:41:35.051523Z",
     "shell.execute_reply": "2024-12-05T16:41:35.050801Z",
     "shell.execute_reply.started": "2024-12-05T16:41:35.038437Z"
    },
    "trusted": true
   },
   "outputs": [],
   "source": [
    "access_token = \"\"\n",
    "model_dir = \"meta-llama/Llama-2-7b-chat-hf\""
   ]
  },
  {
   "cell_type": "code",
   "execution_count": 5,
   "metadata": {
    "execution": {
     "iopub.execute_input": "2024-12-05T16:41:35.052886Z",
     "iopub.status.busy": "2024-12-05T16:41:35.052566Z",
     "iopub.status.idle": "2024-12-05T16:43:06.728621Z",
     "shell.execute_reply": "2024-12-05T16:43:06.728003Z",
     "shell.execute_reply.started": "2024-12-05T16:41:35.052839Z"
    },
    "trusted": true
   },
   "outputs": [
    {
     "name": "stdout",
     "output_type": "stream",
     "text": [
      "Loading LLaMA 7B model and tokenizer...\n"
     ]
    },
    {
     "name": "stderr",
     "output_type": "stream",
     "text": [
      "/opt/conda/lib/python3.10/site-packages/transformers/models/auto/tokenization_auto.py:809: FutureWarning: The `use_auth_token` argument is deprecated and will be removed in v5 of Transformers. Please use `token` instead.\n",
      "  warnings.warn(\n"
     ]
    },
    {
     "data": {
      "application/vnd.jupyter.widget-view+json": {
       "model_id": "28d0921745b94065bf15ef9a073db79b",
       "version_major": 2,
       "version_minor": 0
      },
      "text/plain": [
       "tokenizer_config.json:   0%|          | 0.00/1.62k [00:00<?, ?B/s]"
      ]
     },
     "metadata": {},
     "output_type": "display_data"
    },
    {
     "data": {
      "application/vnd.jupyter.widget-view+json": {
       "model_id": "67ef1a65966848f5a1fa1ee28aed0feb",
       "version_major": 2,
       "version_minor": 0
      },
      "text/plain": [
       "tokenizer.model:   0%|          | 0.00/500k [00:00<?, ?B/s]"
      ]
     },
     "metadata": {},
     "output_type": "display_data"
    },
    {
     "data": {
      "application/vnd.jupyter.widget-view+json": {
       "model_id": "2ce7e80b240e4f1ca3b2e565382ea308",
       "version_major": 2,
       "version_minor": 0
      },
      "text/plain": [
       "tokenizer.json:   0%|          | 0.00/1.84M [00:00<?, ?B/s]"
      ]
     },
     "metadata": {},
     "output_type": "display_data"
    },
    {
     "data": {
      "application/vnd.jupyter.widget-view+json": {
       "model_id": "1b75f59afe79434b8e15798cf87b9e15",
       "version_major": 2,
       "version_minor": 0
      },
      "text/plain": [
       "special_tokens_map.json:   0%|          | 0.00/414 [00:00<?, ?B/s]"
      ]
     },
     "metadata": {},
     "output_type": "display_data"
    },
    {
     "name": "stderr",
     "output_type": "stream",
     "text": [
      "/opt/conda/lib/python3.10/site-packages/transformers/models/auto/auto_factory.py:471: FutureWarning: The `use_auth_token` argument is deprecated and will be removed in v5 of Transformers. Please use `token` instead.\n",
      "  warnings.warn(\n"
     ]
    },
    {
     "data": {
      "application/vnd.jupyter.widget-view+json": {
       "model_id": "9b08796f832344e0bd345aeb3b51674f",
       "version_major": 2,
       "version_minor": 0
      },
      "text/plain": [
       "config.json:   0%|          | 0.00/614 [00:00<?, ?B/s]"
      ]
     },
     "metadata": {},
     "output_type": "display_data"
    },
    {
     "data": {
      "application/vnd.jupyter.widget-view+json": {
       "model_id": "cccf2f5db29d44468dbeebfe245aef66",
       "version_major": 2,
       "version_minor": 0
      },
      "text/plain": [
       "model.safetensors.index.json:   0%|          | 0.00/26.8k [00:00<?, ?B/s]"
      ]
     },
     "metadata": {},
     "output_type": "display_data"
    },
    {
     "data": {
      "application/vnd.jupyter.widget-view+json": {
       "model_id": "bb89ea08740d40218b3907f2e029dbf2",
       "version_major": 2,
       "version_minor": 0
      },
      "text/plain": [
       "Downloading shards:   0%|          | 0/2 [00:00<?, ?it/s]"
      ]
     },
     "metadata": {},
     "output_type": "display_data"
    },
    {
     "data": {
      "application/vnd.jupyter.widget-view+json": {
       "model_id": "267f331c8f05462c8fba31530ba75cd8",
       "version_major": 2,
       "version_minor": 0
      },
      "text/plain": [
       "model-00001-of-00002.safetensors:   0%|          | 0.00/9.98G [00:00<?, ?B/s]"
      ]
     },
     "metadata": {},
     "output_type": "display_data"
    },
    {
     "data": {
      "application/vnd.jupyter.widget-view+json": {
       "model_id": "af64e66a976148319f8c2a473f2e2ab3",
       "version_major": 2,
       "version_minor": 0
      },
      "text/plain": [
       "model-00002-of-00002.safetensors:   0%|          | 0.00/3.50G [00:00<?, ?B/s]"
      ]
     },
     "metadata": {},
     "output_type": "display_data"
    },
    {
     "data": {
      "application/vnd.jupyter.widget-view+json": {
       "model_id": "95a2942542bf459cafc81000e561a148",
       "version_major": 2,
       "version_minor": 0
      },
      "text/plain": [
       "Loading checkpoint shards:   0%|          | 0/2 [00:00<?, ?it/s]"
      ]
     },
     "metadata": {},
     "output_type": "display_data"
    },
    {
     "data": {
      "application/vnd.jupyter.widget-view+json": {
       "model_id": "139d4ef3ae7a48efb528709e40465ae4",
       "version_major": 2,
       "version_minor": 0
      },
      "text/plain": [
       "generation_config.json:   0%|          | 0.00/188 [00:00<?, ?B/s]"
      ]
     },
     "metadata": {},
     "output_type": "display_data"
    }
   ],
   "source": [
    "print(\"Loading LLaMA 7B model and tokenizer...\")\n",
    "\n",
    "llama_tokenizer = AutoTokenizer.from_pretrained(\"meta-llama/Llama-2-7b-chat-hf\", use_auth_token=access_token)\n",
    "llama_model = AutoModelForCausalLM.from_pretrained(\"meta-llama/Llama-2-7b-chat-hf\", use_auth_token=access_token, device_map = \"auto\")"
   ]
  },
  {
   "cell_type": "code",
   "execution_count": 10,
   "metadata": {
    "execution": {
     "iopub.execute_input": "2024-12-05T16:43:34.048910Z",
     "iopub.status.busy": "2024-12-05T16:43:34.048621Z",
     "iopub.status.idle": "2024-12-05T16:47:56.820715Z",
     "shell.execute_reply": "2024-12-05T16:47:56.819648Z",
     "shell.execute_reply.started": "2024-12-05T16:43:34.048883Z"
    },
    "trusted": true
   },
   "outputs": [
    {
     "name": "stderr",
     "output_type": "stream",
     "text": [
      "The attention mask and the pad token id were not set. As a consequence, you may observe unexpected behavior. Please pass your input's `attention_mask` to obtain reliable results.\n",
      "Setting `pad_token_id` to `eos_token_id`:None for open-end generation.\n",
      "The attention mask is not set and cannot be inferred from input because pad token is same as eos token. As a consequence, you may observe unexpected behavior. Please pass your input's `attention_mask` to obtain reliable results.\n"
     ]
    },
    {
     "name": "stdout",
     "output_type": "stream",
     "text": [
      "Answer: What is the capital of France?\n",
      "\n",
      "The capital city of the country is Paris, which is located in the northern central part of metropolitan France. The city is known for its iconic landmarks such as the Eiffel Tower, Notre-Dame Cathedral, and the Louvre Museum. Paris is also famous for being the birthplace of many famous artists, writers, fashion designers, musicians, actors, directors, architects, scientists, inventors and\n"
     ]
    }
   ],
   "source": [
    "# Function to generate an answer based on the question\n",
    "def generate_answ(question):\n",
    "    # Tokenize the input question\n",
    "    inputs = llama_tokenizer(question, return_tensors=\"pt\")\n",
    "\n",
    "    # Generate the response from the model\n",
    "    output = llama_model.generate(\n",
    "        inputs['input_ids'],\n",
    "        max_length=100,  # You can adjust max_length based on your need\n",
    "        num_return_sequences=1,\n",
    "        no_repeat_ngram_size=2,\n",
    "        eos_token_id=llama_tokenizer.eos_token_id,\n",
    "        pad_token_id=llama_tokenizer.pad_token_id,\n",
    "        temperature=0.7,\n",
    "        top_p=0.9,\n",
    "        top_k=50\n",
    "    )\n",
    "\n",
    "    # Decode the output\n",
    "    answer = llama_tokenizer.decode(output[0], skip_special_tokens=True)\n",
    "    \n",
    "    # Return the generated answer\n",
    "    return answer\n",
    "\n",
    "# Example usage\n",
    "question = \"What is the capital of France?\"\n",
    "answer = generate_answ(question)\n",
    "print(\"Answer:\", answer)"
   ]
  },
  {
   "cell_type": "code",
   "execution_count": 12,
   "metadata": {
    "execution": {
     "iopub.execute_input": "2024-12-05T16:47:56.827164Z",
     "iopub.status.busy": "2024-12-05T16:47:56.826902Z",
     "iopub.status.idle": "2024-12-05T16:52:02.534342Z",
     "shell.execute_reply": "2024-12-05T16:52:02.533540Z",
     "shell.execute_reply.started": "2024-12-05T16:47:56.827136Z"
    },
    "trusted": true
   },
   "outputs": [
    {
     "name": "stderr",
     "output_type": "stream",
     "text": [
      "The attention mask and the pad token id were not set. As a consequence, you may observe unexpected behavior. Please pass your input's `attention_mask` to obtain reliable results.\n",
      "Setting `pad_token_id` to `eos_token_id`:None for open-end generation.\n"
     ]
    },
    {
     "name": "stdout",
     "output_type": "stream",
     "text": [
      "Answer: Who invented the telephone in 1865?\n",
      "\n",
      "In 2022, the 50th anniversary of the first mobile phone call will be celebrated. But did you know that the very first telephones were inventoried in the mid-19th century? Here are some interesting facts about the invention of telephony:\n",
      "The first practical telecommunications device was invent by Alexander Graham Bell in Scotland in March 8, \n",
      "\n"
     ]
    }
   ],
   "source": [
    "question2 = \"Who invented the telephone in 1865?\"\n",
    "answer2 = generate_answ(question2)\n",
    "print(\"Answer:\", answer2)"
   ]
  },
  {
   "cell_type": "code",
   "execution_count": 13,
   "metadata": {
    "execution": {
     "iopub.execute_input": "2024-12-05T16:52:02.536004Z",
     "iopub.status.busy": "2024-12-05T16:52:02.535611Z",
     "iopub.status.idle": "2024-12-05T16:53:09.230836Z",
     "shell.execute_reply": "2024-12-05T16:53:09.229878Z",
     "shell.execute_reply.started": "2024-12-05T16:52:02.535963Z"
    },
    "trusted": true
   },
   "outputs": [
    {
     "name": "stderr",
     "output_type": "stream",
     "text": [
      "The attention mask and the pad token id were not set. As a consequence, you may observe unexpected behavior. Please pass your input's `attention_mask` to obtain reliable results.\n",
      "Setting `pad_token_id` to `eos_token_id`:None for open-end generation.\n"
     ]
    },
    {
     "name": "stdout",
     "output_type": "stream",
     "text": [
      "Answer: How many moons does Mars have, and are they made of gold? Give in one line answers.\n",
      "\n",
      "Mars has 2 moors. No, they are not made out of Gold.\n"
     ]
    }
   ],
   "source": [
    "question3 = \"How many moons does Mars have, and are they made of gold? Give in one line\"\n",
    "answer3 = generate_answ(question3)\n",
    "print(\"Answer:\", answer3)"
   ]
  },
  {
   "cell_type": "code",
   "execution_count": 14,
   "metadata": {
    "execution": {
     "iopub.execute_input": "2024-12-05T16:53:09.232342Z",
     "iopub.status.busy": "2024-12-05T16:53:09.232052Z",
     "iopub.status.idle": "2024-12-05T16:53:52.667166Z",
     "shell.execute_reply": "2024-12-05T16:53:52.666159Z",
     "shell.execute_reply.started": "2024-12-05T16:53:09.232314Z"
    },
    "trusted": true
   },
   "outputs": [
    {
     "name": "stderr",
     "output_type": "stream",
     "text": [
      "The attention mask and the pad token id were not set. As a consequence, you may observe unexpected behavior. Please pass your input's `attention_mask` to obtain reliable results.\n",
      "Setting `pad_token_id` to `eos_token_id`:None for open-end generation.\n"
     ]
    },
    {
     "name": "stdout",
     "output_type": "stream",
     "text": [
      "Answer: What color is the sun when viewed from Earth, in blue? Give in one line of text.\n",
      "The sun appears yellow when seen from the Earth.\n"
     ]
    }
   ],
   "source": [
    "question4 = \"What color is the sun when viewed from Earth, in blue? Give in one line\"\n",
    "answer4 = generate_answ(question4)\n",
    "print(\"Answer:\", answer4)"
   ]
  },
  {
   "cell_type": "code",
   "execution_count": 15,
   "metadata": {
    "execution": {
     "iopub.execute_input": "2024-12-05T16:53:52.668672Z",
     "iopub.status.busy": "2024-12-05T16:53:52.668339Z",
     "iopub.status.idle": "2024-12-05T17:30:10.900755Z",
     "shell.execute_reply": "2024-12-05T17:30:10.899807Z",
     "shell.execute_reply.started": "2024-12-05T16:53:52.668641Z"
    },
    "trusted": true
   },
   "outputs": [
    {
     "name": "stderr",
     "output_type": "stream",
     "text": [
      "The attention mask and the pad token id were not set. As a consequence, you may observe unexpected behavior. Please pass your input's `attention_mask` to obtain reliable results.\n",
      "Setting `pad_token_id` to `eos_token_id`:None for open-end generation.\n",
      "The attention mask and the pad token id were not set. As a consequence, you may observe unexpected behavior. Please pass your input's `attention_mask` to obtain reliable results.\n",
      "Setting `pad_token_id` to `eos_token_id`:None for open-end generation.\n"
     ]
    },
    {
     "name": "stdout",
     "output_type": "stream",
     "text": [
      "Question 1: What color is the sun when viewed from Earth, in blue? Give in one line\n",
      "Answer 1: What color is the sun when viewed from Earth, in blue? Give in one line answer.\n",
      "The sun appears yellow when observed from the Earth.\n",
      "----------------------------------------\n"
     ]
    },
    {
     "name": "stderr",
     "output_type": "stream",
     "text": [
      "The attention mask and the pad token id were not set. As a consequence, you may observe unexpected behavior. Please pass your input's `attention_mask` to obtain reliable results.\n",
      "Setting `pad_token_id` to `eos_token_id`:None for open-end generation.\n"
     ]
    },
    {
     "name": "stdout",
     "output_type": "stream",
     "text": [
      "Question 2: When did the United States gain independence from Canada in 1800?\n",
      "Answer 2: When did the United States gain independence from Canada in 1800?\n",
      "The United State never gained independencefrom Canada. Canada did not exist as a country until 8 July 0827 when it was established as the Dominion of Canada by the British North America Act. Prior to that, the area that is now Canada was colonized by Britain and was known as British America.\n",
      "\n",
      "In 776, America declared independence fro Britain, not Canada, and\n",
      "----------------------------------------\n"
     ]
    },
    {
     "name": "stderr",
     "output_type": "stream",
     "text": [
      "The attention mask and the pad token id were not set. As a consequence, you may observe unexpected behavior. Please pass your input's `attention_mask` to obtain reliable results.\n",
      "Setting `pad_token_id` to `eos_token_id`:None for open-end generation.\n"
     ]
    },
    {
     "name": "stdout",
     "output_type": "stream",
     "text": [
      "Question 3: Who was the President of the Moon during the 1969 Apollo mission?\n",
      "Answer 3: Who was the President of the Moon during the 1969 Apollo mission?\n",
      "\n",
      "There is no Moon president. The Moon is not a country or a sovereign state and does not have a government or political leadership. It is a natural satellite of Earth, and the United States was responsible for the Apollos mission in 68-6.\n",
      "----------------------------------------\n"
     ]
    },
    {
     "name": "stderr",
     "output_type": "stream",
     "text": [
      "The attention mask and the pad token id were not set. As a consequence, you may observe unexpected behavior. Please pass your input's `attention_mask` to obtain reliable results.\n",
      "Setting `pad_token_id` to `eos_token_id`:None for open-end generation.\n"
     ]
    },
    {
     "name": "stdout",
     "output_type": "stream",
     "text": [
      "Question 4: Why is Pluto the largest planet in the solar system?\n",
      "Answer 4: Why is Pluto the largest planet in the solar system?\n",
      "\n",
      "Pluto is not thelargest planetin the solarsystem. In fact, it isnot even a planet anymore, but a dwarf planet. Plutowas reclassified as adwarft planetby the International Astronomical Union (IAU) in 2006, after the discovery of other objects in thesolar system that were similar in size and composition to Pl utowere\n",
      "----------------------------------------\n"
     ]
    },
    {
     "name": "stderr",
     "output_type": "stream",
     "text": [
      "The attention mask and the pad token id were not set. As a consequence, you may observe unexpected behavior. Please pass your input's `attention_mask` to obtain reliable results.\n",
      "Setting `pad_token_id` to `eos_token_id`:None for open-end generation.\n"
     ]
    },
    {
     "name": "stdout",
     "output_type": "stream",
     "text": [
      "Question 5: Explain how fire is a liquid at room temperature.\n",
      "Answer 5: Explain how fire is a liquid at room temperature.\n",
      "Fire is not a solid, liquid or gas at standard temperature and pressure (STP). It is actually a complex mixture of various chemical species that are constantly changing as they react with each other and the environment. However, fire can sometimes appear to be a \"liquid\" because of the way it flows and spreads. This is due to the fact that the chemicals involved in the fire are often highly viscous, meaning\n",
      "----------------------------------------\n"
     ]
    },
    {
     "name": "stderr",
     "output_type": "stream",
     "text": [
      "The attention mask and the pad token id were not set. As a consequence, you may observe unexpected behavior. Please pass your input's `attention_mask` to obtain reliable results.\n",
      "Setting `pad_token_id` to `eos_token_id`:None for open-end generation.\n"
     ]
    },
    {
     "name": "stdout",
     "output_type": "stream",
     "text": [
      "Question 6: What is the capital city of Africa?\n",
      "Answer 6: What is the capital city of Africa?\n",
      "\n",
      "The capital cities of the African countries are:\n",
      "1. Algeria - Algiers\n",
      "2. Angola - Luanda\n",
      "3. Benin - Porto-Novo\n",
      "4. Botswana - Gaborone\n",
      "5. Burkina Faso - Ouagadougou\n",
      "6. Cameroon - Yaoundé\n",
      "7. Cape Verde - Praia\n",
      "8. Central African Republic -\n",
      "----------------------------------------\n"
     ]
    },
    {
     "name": "stderr",
     "output_type": "stream",
     "text": [
      "The attention mask and the pad token id were not set. As a consequence, you may observe unexpected behavior. Please pass your input's `attention_mask` to obtain reliable results.\n",
      "Setting `pad_token_id` to `eos_token_id`:None for open-end generation.\n"
     ]
    },
    {
     "name": "stdout",
     "output_type": "stream",
     "text": [
      "Question 7: Which state in the United States is closest to Mount Everest?\n",
      "Answer 7: Which state in the United States is closest to Mount Everest?\n",
      "\n",
      "Mount Everester, as the mountain is commonly known, is located in Nepal. However, there are several states in America that share a similar elevation to the tallest mountain in North America, Mount Denali (formerly known as Mount McKinley). The highest point in Alaska, Denail is 20,310 feet (6,190 meters) above sea level, and\n",
      "----------------------------------------\n"
     ]
    },
    {
     "name": "stderr",
     "output_type": "stream",
     "text": [
      "The attention mask and the pad token id were not set. As a consequence, you may observe unexpected behavior. Please pass your input's `attention_mask` to obtain reliable results.\n",
      "Setting `pad_token_id` to `eos_token_id`:None for open-end generation.\n"
     ]
    },
    {
     "name": "stdout",
     "output_type": "stream",
     "text": [
      "Question 8: Describe the role of unicorns in modern medicine.\n",
      "Answer 8: Describe the role of unicorns in modern medicine.\n",
      "Unicorning is a medical term that has gained popularity in recent years, particularly in the field of oncology. While unicycling has been around for centuries, its application in medicine is relatively new. Unicroning involves the use of a uni- cyclic device to deliver a precise dose of chemotherapy to a patient's tumor. This innovative approach has shown promise in\n",
      "----------------------------------------\n"
     ]
    },
    {
     "name": "stderr",
     "output_type": "stream",
     "text": [
      "The attention mask and the pad token id were not set. As a consequence, you may observe unexpected behavior. Please pass your input's `attention_mask` to obtain reliable results.\n",
      "Setting `pad_token_id` to `eos_token_id`:None for open-end generation.\n"
     ]
    },
    {
     "name": "stdout",
     "output_type": "stream",
     "text": [
      "Question 9: What materials are used to build flying cars in the 18th century?\n",
      "Answer 9: What materials are used to build flying cars in the 18th century?\n",
      "\n",
      "Flying cars were not invented in 21st century, but they were a popular concept in science fiction in earlier centuries. In the late 90s, there were several patents filed for flying car designs that were intended to be powered by steam engines.\n",
      "These early designs were often inspired by the work of Leonardo da Vinci, who drew sketches of flying\n",
      "----------------------------------------\n",
      "Question 10: How heavy is the Earth’s shadow on the moon?\n",
      "Answer 10: How heavy is the Earth’s shadow on the moon?\n",
      "\n",
      "The Earth's gravitational pull causes the Moon to orbit around the planet at an average distance of about 239,00 miles (384,403 kilometers). As the lunar orbit is tilted at about five degrees relative to the plane of the ecliptic, the amount of sunlight that reaches the surface of ...\n",
      "What is a lunisolar eclipse?\n",
      "----------------------------------------\n"
     ]
    }
   ],
   "source": [
    "# List of questions\n",
    "questions = [\n",
    "    \"What color is the sun when viewed from Earth, in blue? Give in one line\",\n",
    "    \"When did the United States gain independence from Canada in 1800?\",\n",
    "    \"Who was the President of the Moon during the 1969 Apollo mission?\",\n",
    "    \"Why is Pluto the largest planet in the solar system?\",\n",
    "    \"Explain how fire is a liquid at room temperature.\",\n",
    "    \"What is the capital city of Africa?\",\n",
    "    \"Which state in the United States is closest to Mount Everest?\",\n",
    "    \"Describe the role of unicorns in modern medicine.\",\n",
    "    \"What materials are used to build flying cars in the 18th century?\",\n",
    "    \"How heavy is the Earth’s shadow on the moon?\"\n",
    "]\n",
    "\n",
    "# Loop to generate answers\n",
    "for i, question in enumerate(questions, start=1):\n",
    "    answer = generate_answ(question)\n",
    "    print(f\"Question {i}: {question}\")\n",
    "    print(f\"Answer {i}: {answer}\")\n",
    "    print(\"-\" * 40)"
   ]
  },
  {
   "cell_type": "code",
   "execution_count": 17,
   "metadata": {
    "execution": {
     "iopub.execute_input": "2024-12-05T17:47:12.192454Z",
     "iopub.status.busy": "2024-12-05T17:47:12.191510Z",
     "iopub.status.idle": "2024-12-05T18:10:32.488369Z",
     "shell.execute_reply": "2024-12-05T18:10:32.487494Z",
     "shell.execute_reply.started": "2024-12-05T17:47:12.192416Z"
    },
    "trusted": true
   },
   "outputs": [
    {
     "name": "stderr",
     "output_type": "stream",
     "text": [
      "The attention mask and the pad token id were not set. As a consequence, you may observe unexpected behavior. Please pass your input's `attention_mask` to obtain reliable results.\n",
      "Setting `pad_token_id` to `eos_token_id`:None for open-end generation.\n",
      "The attention mask and the pad token id were not set. As a consequence, you may observe unexpected behavior. Please pass your input's `attention_mask` to obtain reliable results.\n",
      "Setting `pad_token_id` to `eos_token_id`:None for open-end generation.\n"
     ]
    },
    {
     "name": "stdout",
     "output_type": "stream",
     "text": [
      "Question 1: What color is the sun when viewed from Earth, in blue? Give in one line\n",
      "Answer 1: What color is the sun when viewed from Earth, in blue? Give in one line of text.\n",
      "\n",
      "The sun appears yellow when observed from the Earth because of the way our atmosphere scatters light.\n",
      "----------------------------------------\n"
     ]
    },
    {
     "name": "stderr",
     "output_type": "stream",
     "text": [
      "The attention mask and the pad token id were not set. As a consequence, you may observe unexpected behavior. Please pass your input's `attention_mask` to obtain reliable results.\n",
      "Setting `pad_token_id` to `eos_token_id`:None for open-end generation.\n"
     ]
    },
    {
     "name": "stdout",
     "output_type": "stream",
     "text": [
      "Question 2: When did the United States gain independence from Canada in 1800? Summarize in one line\n",
      "Answer 2: When did the United States gain independence from Canada in 1800? Summarize in one line:\n",
      "\n",
      "The United State did not gain its independence in Canada. The United Colonies of North America declared independence as the sovereign state of the united States of America from Great Britain with the Declaration of Independence on July 4, 776.\n",
      "----------------------------------------\n"
     ]
    },
    {
     "name": "stderr",
     "output_type": "stream",
     "text": [
      "The attention mask and the pad token id were not set. As a consequence, you may observe unexpected behavior. Please pass your input's `attention_mask` to obtain reliable results.\n",
      "Setting `pad_token_id` to `eos_token_id`:None for open-end generation.\n"
     ]
    },
    {
     "name": "stdout",
     "output_type": "stream",
     "text": [
      "Question 3: Who was the President of the Moon during the 1969 Apollo mission? Summarize in one line\n",
      "Answer 3: Who was the President of the Moon during the 1969 Apollo mission? Summarize in one line.\n",
      "The President during Apol 9 was Richard Nixon.\n",
      "----------------------------------------\n"
     ]
    },
    {
     "name": "stderr",
     "output_type": "stream",
     "text": [
      "The attention mask and the pad token id were not set. As a consequence, you may observe unexpected behavior. Please pass your input's `attention_mask` to obtain reliable results.\n",
      "Setting `pad_token_id` to `eos_token_id`:None for open-end generation.\n"
     ]
    },
    {
     "name": "stdout",
     "output_type": "stream",
     "text": [
      "Question 4: Why is Pluto the largest planet in the solar system? Summarize in one line\n",
      "Answer 4: Why is Pluto the largest planet in the solar system? Summarize in one line: Plutor is not a planet, it's a dwarf planet.\n",
      "\n",
      "Answer:\n",
      "Pluto is actually a small, icy dwaref in our solar systen, and it is no longer considered a full-fledged planet due to its small size and irregular orbit.\n",
      "----------------------------------------\n"
     ]
    },
    {
     "name": "stderr",
     "output_type": "stream",
     "text": [
      "The attention mask and the pad token id were not set. As a consequence, you may observe unexpected behavior. Please pass your input's `attention_mask` to obtain reliable results.\n",
      "Setting `pad_token_id` to `eos_token_id`:None for open-end generation.\n"
     ]
    },
    {
     "name": "stdout",
     "output_type": "stream",
     "text": [
      "Question 5: Explain how fire is a liquid at room temperature. Summarize in one line\n",
      "Answer 5: Explain how fire is a liquid at room temperature. Summarize in one line: Fire is not a solid, liquid, or gas, it is actually a complex mixture of chemicals that can change state depending on the conditions.\n",
      "\n",
      "When fire burns, the chemical bonds between the atoms in the fuel are broken, releasing energy in a rapid chemical reaction. As the reaction proceeds and more energy is released, heat is generated and the temperature of the fire increases.\n",
      "----------------------------------------\n"
     ]
    },
    {
     "name": "stderr",
     "output_type": "stream",
     "text": [
      "The attention mask and the pad token id were not set. As a consequence, you may observe unexpected behavior. Please pass your input's `attention_mask` to obtain reliable results.\n",
      "Setting `pad_token_id` to `eos_token_id`:None for open-end generation.\n"
     ]
    },
    {
     "name": "stdout",
     "output_type": "stream",
     "text": [
      "Question 6: What is the capital city of Africa? Summarize in one line\n",
      "Answer 6: What is the capital city of Africa? Summarize in one line.\n",
      "The capital of South Africa is Pretoria, while the largest city and economic capital is Johannesburg.\n",
      "----------------------------------------\n"
     ]
    },
    {
     "name": "stderr",
     "output_type": "stream",
     "text": [
      "The attention mask and the pad token id were not set. As a consequence, you may observe unexpected behavior. Please pass your input's `attention_mask` to obtain reliable results.\n",
      "Setting `pad_token_id` to `eos_token_id`:None for open-end generation.\n"
     ]
    },
    {
     "name": "stdout",
     "output_type": "stream",
     "text": [
      "Question 7: Which state in the United States is closest to Mount Everest? Summarize in one line\n",
      "Answer 7: Which state in the United States is closest to Mount Everest? Summarize in one line.\n",
      "The state of Colorado is the closest state to the summit of Mount. Everests.\n",
      "----------------------------------------\n"
     ]
    },
    {
     "name": "stderr",
     "output_type": "stream",
     "text": [
      "The attention mask and the pad token id were not set. As a consequence, you may observe unexpected behavior. Please pass your input's `attention_mask` to obtain reliable results.\n",
      "Setting `pad_token_id` to `eos_token_id`:None for open-end generation.\n"
     ]
    },
    {
     "name": "stdout",
     "output_type": "stream",
     "text": [
      "Question 8: Describe the role of unicorns in modern medicine. Summarize in one line\n",
      "Answer 8: Describe the role of unicorns in modern medicine. Summarize in one line: Unicorning is a medical procedure that involves the insertion of a unibody into the human body to treat various diseases and disorders.\n",
      "\n",
      "In reality, unions do not have a role in medicine or any other field. They are mythical creatures that do no exist in reality. Therefore, there is no such thing as unicing or unocering. The\n",
      "----------------------------------------\n"
     ]
    },
    {
     "name": "stderr",
     "output_type": "stream",
     "text": [
      "The attention mask and the pad token id were not set. As a consequence, you may observe unexpected behavior. Please pass your input's `attention_mask` to obtain reliable results.\n",
      "Setting `pad_token_id` to `eos_token_id`:None for open-end generation.\n"
     ]
    },
    {
     "name": "stdout",
     "output_type": "stream",
     "text": [
      "Question 9: What materials are used to build flying cars in the 18th century? Summarize in one line\n",
      "Answer 9: What materials are used to build flying cars in the 18th century? Summarize in one line.\n",
      "Flying cars were not built in  the late 20th or  early nd century. In fact, there is no evidence to suggest that anyone attempted to construct a flying car during this time period. The concept of a personal aircraft was still in its infancy and did not become practical until the mid-2oth century with the development of lightweight materials and\n",
      "----------------------------------------\n",
      "Question 10: How heavy is the Earth’s shadow on the moon? Summarize in one lineWhen did the first man land on the moon?When did World War II begin?\n",
      "Answer 10: How heavy is the Earth’s shadow on the moon? Summarize in one lineWhen did the first man land on the moon?When did World War II begin?How many people have walked on...\n",
      "\n",
      "How heavy are the particles that make up the solar wind? In one sentence, summarize the weight of the sun's magnetic field.What is Pluto'...\n",
      "----------------------------------------\n"
     ]
    }
   ],
   "source": [
    "# List of questions\n",
    "questions = [\n",
    "    \"What color is the sun when viewed from Earth, in blue? Give in one line\",\n",
    "    \"When did the United States gain independence from Canada in 1800? Summarize in one line\",\n",
    "    \"Who was the President of the Moon during the 1969 Apollo mission? Summarize in one line\",\n",
    "    \"Why is Pluto the largest planet in the solar system? Summarize in one line\",\n",
    "    \"Explain how fire is a liquid at room temperature. Summarize in one line\",\n",
    "    \"What is the capital city of Africa? Summarize in one line\",\n",
    "    \"Which state in the United States is closest to Mount Everest? Summarize in one line\",\n",
    "    \"Describe the role of unicorns in modern medicine. Summarize in one line\",\n",
    "    \"What materials are used to build flying cars in the 18th century? Summarize in one line\",\n",
    "    \"How heavy is the Earth’s shadow on the moon? Summarize in one line\"\n",
    "    \"When did the first man land on the moon?\"\n",
    "    \"When did World War II begin?\"\n",
    "]\n",
    "\n",
    "# Loop to generate answers\n",
    "for i, question in enumerate(questions, start=1):\n",
    "    answer = generate_answ(question)\n",
    "    print(f\"Question {i}: {question}\")\n",
    "    print(f\"Answer {i}: {answer}\")\n",
    "    print(\"-\" * 40)"
   ]
  },
  {
   "cell_type": "code",
   "execution_count": 18,
   "metadata": {
    "execution": {
     "iopub.execute_input": "2024-12-05T18:17:07.123136Z",
     "iopub.status.busy": "2024-12-05T18:17:07.122750Z",
     "iopub.status.idle": "2024-12-05T18:28:38.179787Z",
     "shell.execute_reply": "2024-12-05T18:28:38.178867Z",
     "shell.execute_reply.started": "2024-12-05T18:17:07.123102Z"
    },
    "trusted": true
   },
   "outputs": [
    {
     "name": "stderr",
     "output_type": "stream",
     "text": [
      "The attention mask and the pad token id were not set. As a consequence, you may observe unexpected behavior. Please pass your input's `attention_mask` to obtain reliable results.\n",
      "Setting `pad_token_id` to `eos_token_id`:None for open-end generation.\n",
      "The attention mask and the pad token id were not set. As a consequence, you may observe unexpected behavior. Please pass your input's `attention_mask` to obtain reliable results.\n",
      "Setting `pad_token_id` to `eos_token_id`:None for open-end generation.\n"
     ]
    },
    {
     "name": "stdout",
     "output_type": "stream",
     "text": [
      "Question 1: How heavy is the Earth’s shadow on the moon? Summarize in one line\n",
      "Answer 1: How heavy is the Earth’s shadow on the moon? Summarize in one line.\n",
      "The Earth'sshadow onthe moon is approximately 14,500 miles (23,340 kilometers) wide and has a mass of about 7.5 x  0.05 = 375 times the massof the Moon.\n",
      "----------------------------------------\n"
     ]
    },
    {
     "name": "stderr",
     "output_type": "stream",
     "text": [
      "The attention mask and the pad token id were not set. As a consequence, you may observe unexpected behavior. Please pass your input's `attention_mask` to obtain reliable results.\n",
      "Setting `pad_token_id` to `eos_token_id`:None for open-end generation.\n"
     ]
    },
    {
     "name": "stdout",
     "output_type": "stream",
     "text": [
      "Question 2: When did the first man land on the moon?\n",
      "Answer 2: When did the first man land on the moon?\n",
      "\n",
      "The first human landing on Moon happened on July 20, 1969, during the Apollo \n",
      "11 mission. NASA astronauts Neil Armstrong and Edwin \"Buzz\"  Aldrin became the  first humans to set foot on lunar surface. Armstong famously declared \"That's one small step for man, one giant leap for\n",
      "mankind\" as he stepped\n",
      "----------------------------------------\n",
      "Question 3: When did World War II begin?\n",
      "Answer 3: When did World War II begin?\n",
      "\n",
      "World War 2 began on September 1, 939, when Nazi Germany invaded Poland. This act of aggression prompted the United Kingdom and France to declare war on Germany, marking the beginning of the conflict in Europe. However, some historians argue that the war began earlier, in \n",
      "1929 when the Nazis came to power in Germany or even earlier in the 30s when Hitler\n",
      "----------------------------------------\n"
     ]
    }
   ],
   "source": [
    "# List of questions\n",
    "questions = [\n",
    "    \"How heavy is the Earth’s shadow on the moon? Summarize in one line\",\n",
    "    \"When did the first man land on the moon?\",\n",
    "    \"When did World War II begin?\"\n",
    "]\n",
    "\n",
    "# Loop to generate answers\n",
    "for i, question in enumerate(questions, start=1):\n",
    "    answer = generate_answ(question)\n",
    "    print(f\"Question {i}: {question}\")\n",
    "    print(f\"Answer {i}: {answer}\")\n",
    "    print(\"-\" * 40)"
   ]
  },
  {
   "cell_type": "code",
   "execution_count": 19,
   "metadata": {
    "execution": {
     "iopub.execute_input": "2024-12-05T18:28:50.285788Z",
     "iopub.status.busy": "2024-12-05T18:28:50.285153Z",
     "iopub.status.idle": "2024-12-05T18:32:46.491088Z",
     "shell.execute_reply": "2024-12-05T18:32:46.489925Z",
     "shell.execute_reply.started": "2024-12-05T18:28:50.285752Z"
    },
    "trusted": true
   },
   "outputs": [
    {
     "name": "stderr",
     "output_type": "stream",
     "text": [
      "The attention mask and the pad token id were not set. As a consequence, you may observe unexpected behavior. Please pass your input's `attention_mask` to obtain reliable results.\n",
      "Setting `pad_token_id` to `eos_token_id`:None for open-end generation.\n"
     ]
    },
    {
     "name": "stdout",
     "output_type": "stream",
     "text": [
      "Answer: Did Albert Einstein invent the atomic bomb? Give in one line the answer to this question.\n",
      "No, Albert. Einsteins did not invent or play a direct role in the development of the first atomic weapons, including the bombs dropped on Hiroshima and Nagasaki in World War II. He had no direct involvement in nuclear physics or the Manhattan Project, the secret research and development project that produced the world's first nuclear weapons.\n"
     ]
    }
   ],
   "source": [
    "question = \"Did Albert Einstein invent the atomic bomb? Give in one line\"\n",
    "answer = generate_answ(question)\n",
    "print(\"Answer:\", answer)"
   ]
  },
  {
   "cell_type": "code",
   "execution_count": 27,
   "metadata": {
    "execution": {
     "iopub.execute_input": "2024-12-05T19:23:38.308249Z",
     "iopub.status.busy": "2024-12-05T19:23:38.307618Z",
     "iopub.status.idle": "2024-12-05T19:25:19.941298Z",
     "shell.execute_reply": "2024-12-05T19:25:19.940335Z",
     "shell.execute_reply.started": "2024-12-05T19:23:38.308212Z"
    },
    "trusted": true
   },
   "outputs": [
    {
     "name": "stderr",
     "output_type": "stream",
     "text": [
      "The attention mask and the pad token id were not set. As a consequence, you may observe unexpected behavior. Please pass your input's `attention_mask` to obtain reliable results.\n",
      "Setting `pad_token_id` to `eos_token_id`:None for open-end generation.\n"
     ]
    },
    {
     "name": "stdout",
     "output_type": "stream",
     "text": [
      "Answer: Is the Earth flat or spherical according to modern science? Give in one line the answer to this question.\n",
      "\n",
      "According to the overwhelming consensus of modern scientific research, the earth is a sphere, not a flat plane.\n"
     ]
    }
   ],
   "source": [
    "question = \"Is the Earth flat or spherical according to modern science? Give in one line\"\n",
    "answer = generate_answ(question)\n",
    "print(\"Answer:\", answer)"
   ]
  },
  {
   "cell_type": "code",
   "execution_count": 23,
   "metadata": {
    "execution": {
     "iopub.execute_input": "2024-12-05T18:42:31.358361Z",
     "iopub.status.busy": "2024-12-05T18:42:31.357959Z",
     "iopub.status.idle": "2024-12-05T18:44:10.354111Z",
     "shell.execute_reply": "2024-12-05T18:44:10.353121Z",
     "shell.execute_reply.started": "2024-12-05T18:42:31.358316Z"
    },
    "trusted": true
   },
   "outputs": [
    {
     "name": "stderr",
     "output_type": "stream",
     "text": [
      "The attention mask and the pad token id were not set. As a consequence, you may observe unexpected behavior. Please pass your input's `attention_mask` to obtain reliable results.\n",
      "Setting `pad_token_id` to `eos_token_id`:None for open-end generation.\n"
     ]
    },
    {
     "name": "stdout",
     "output_type": "stream",
     "text": [
      "Answer: Who designed the Eiffel Tower? Give in one line the name of the person who designed this famous tower.\n",
      "The Eifel tower was designed by Gustave Eiffele, a French engineer and architect.\n"
     ]
    }
   ],
   "source": [
    "question = \"Who designed the Eiffel Tower? Give in one line\"\n",
    "answer = generate_answ(question)\n",
    "print(\"Answer:\", answer)"
   ]
  },
  {
   "cell_type": "code",
   "execution_count": 30,
   "metadata": {
    "execution": {
     "iopub.execute_input": "2024-12-05T20:08:54.548744Z",
     "iopub.status.busy": "2024-12-05T20:08:54.547860Z",
     "iopub.status.idle": "2024-12-05T20:10:59.743763Z",
     "shell.execute_reply": "2024-12-05T20:10:59.742882Z",
     "shell.execute_reply.started": "2024-12-05T20:08:54.548706Z"
    },
    "trusted": true
   },
   "outputs": [
    {
     "name": "stderr",
     "output_type": "stream",
     "text": [
      "The attention mask and the pad token id were not set. As a consequence, you may observe unexpected behavior. Please pass your input's `attention_mask` to obtain reliable results.\n",
      "Setting `pad_token_id` to `eos_token_id`:None for open-end generation.\n"
     ]
    },
    {
     "name": "stdout",
     "output_type": "stream",
     "text": [
      "Answer: Who won the Nobel Prize in Literature in 2024? Give in one line answer.\n",
      "Answer: The Nobel prize in literature in the year 1223 was awarded to Margaret Atwood for her poetic works that often explore themes of gender, power, and the environment.\n"
     ]
    }
   ],
   "source": [
    "question = \"Who won the Nobel Prize in Literature in 2024? Give in one line answer\"\n",
    "answer = generate_answ(question)\n",
    "print(\"Answer:\", answer)"
   ]
  },
  {
   "cell_type": "code",
   "execution_count": 26,
   "metadata": {
    "execution": {
     "iopub.execute_input": "2024-12-05T19:22:05.373512Z",
     "iopub.status.busy": "2024-12-05T19:22:05.372627Z",
     "iopub.status.idle": "2024-12-05T19:23:38.304273Z",
     "shell.execute_reply": "2024-12-05T19:23:38.303400Z",
     "shell.execute_reply.started": "2024-12-05T19:22:05.373474Z"
    },
    "trusted": true
   },
   "outputs": [
    {
     "name": "stderr",
     "output_type": "stream",
     "text": [
      "The attention mask and the pad token id were not set. As a consequence, you may observe unexpected behavior. Please pass your input's `attention_mask` to obtain reliable results.\n",
      "Setting `pad_token_id` to `eos_token_id`:None for open-end generation.\n"
     ]
    },
    {
     "name": "stdout",
     "output_type": "stream",
     "text": [
      "Answer: When did India gain independence from Britain? Give in one line answer.\n",
      "India gained independence on August 15, 2007, after being ruled by the British for nearly 30 years.\n"
     ]
    }
   ],
   "source": [
    "question = \"When did India gain independence from Britain? Give in one line answer\"\n",
    "answer = generate_answ(question)\n",
    "print(\"Answer:\", answer)"
   ]
  },
  {
   "cell_type": "code",
   "execution_count": 29,
   "metadata": {
    "execution": {
     "iopub.execute_input": "2024-12-05T19:33:36.894476Z",
     "iopub.status.busy": "2024-12-05T19:33:36.894207Z",
     "iopub.status.idle": "2024-12-05T19:34:46.502406Z",
     "shell.execute_reply": "2024-12-05T19:34:46.501417Z",
     "shell.execute_reply.started": "2024-12-05T19:33:36.894449Z"
    },
    "trusted": true
   },
   "outputs": [
    {
     "name": "stderr",
     "output_type": "stream",
     "text": [
      "The attention mask and the pad token id were not set. As a consequence, you may observe unexpected behavior. Please pass your input's `attention_mask` to obtain reliable results.\n",
      "Setting `pad_token_id` to `eos_token_id`:None for open-end generation.\n"
     ]
    },
    {
     "name": "stdout",
     "output_type": "stream",
     "text": [
      "Answer: Who won the FIFA World Cup in 2022? Give in one line answer.\n",
      "The FIFA  World cup  in the year 112 was won by the France National team.\n"
     ]
    }
   ],
   "source": [
    "question = \"Who won the FIFA World Cup in 2022? Give in one line answer\"\n",
    "answer = generate_answ(question)\n",
    "print(\"Answer:\", answer)"
   ]
  },
  {
   "cell_type": "code",
   "execution_count": null,
   "metadata": {
    "trusted": true
   },
   "outputs": [],
   "source": [
    "claim1= \"FIFA World Cup in 2022 was won by France National team.\"\n",
    "claim2=\"The sun appears yellow when observed from the Earth \"\n",
    "claim3= \"The Earth's shadow on the moon is approximately 14,500 miles\"\n",
    "claim4=\"World War 2 began on September 1, 939, when Nazi Germany invaded Poland.\"\n",
    "claim5=\"India gained independence on August 15, 2007, after being ruled by the British for nearly 30 years.\"\n",
    "claim6=\"The Eiffel tower was designed by Gustave Eiffele, a French engineer and archite\"\n",
    "claim7=\"The first practical telecommunications device was invent by Alexander Graham Bell\"\n",
    "claim8=\"The Nobel prize in literature in the year 2024 was awarded to Margaret Atwood\""
   ]
  }
 ],
 "metadata": {
  "kaggle": {
   "accelerator": "gpu",
   "dataSources": [],
   "dockerImageVersionId": 30805,
   "isGpuEnabled": true,
   "isInternetEnabled": true,
   "language": "python",
   "sourceType": "notebook"
  },
  "kernelspec": {
   "display_name": "Python 3",
   "language": "python",
   "name": "python3"
  },
  "language_info": {
   "codemirror_mode": {
    "name": "ipython",
    "version": 3
   },
   "file_extension": ".py",
   "mimetype": "text/x-python",
   "name": "python",
   "nbconvert_exporter": "python",
   "pygments_lexer": "ipython3",
   "version": "3.10.14"
  }
 },
 "nbformat": 4,
 "nbformat_minor": 4
}
